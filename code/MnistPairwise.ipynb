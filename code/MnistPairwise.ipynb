{
 "cells": [
  {
   "cell_type": "code",
   "execution_count": 1,
   "metadata": {},
   "outputs": [
    {
     "name": "stderr",
     "output_type": "stream",
     "text": [
      "unable to import 'smart_open.gcs', disabling that module\n"
     ]
    }
   ],
   "source": [
    "from gssl_func import *\n",
    "import matplotlib.pyplot as plt\n",
    "from sklearn.metrics.pairwise import rbf_kernel\n",
    "from sklearn.neighbors import kneighbors_graph\n",
    "from random import sample\n",
    "from sklearn.model_selection import KFold\n",
    "from sklearn.metrics import mean_absolute_error, accuracy_score\n",
    "from node2vec import Node2Vec\n",
    "from sklearn.datasets import load_svmlight_file\n",
    "from sklearn.svm import SVC\n",
    "import scipy.io as sio\n",
    "\n"
   ]
  },
  {
   "cell_type": "code",
   "execution_count": 13,
   "metadata": {},
   "outputs": [],
   "source": [
    "digits = [8,9]\n",
    "\n",
    "x, labels = mnist_dataset(str(digits[0])+'and'+str(digits[1]))\n",
    "labels[np.where(labels==digits[0]+1)] = -1\n",
    "labels[np.where(labels==digits[1]+1)] = 1\n",
    "total_ind = np.array([i for i in range(labels.shape[0])])\n",
    "# print(labels)\n",
    "\n",
    "\n",
    "knn_w = np.array(kneighbors_graph(x, 10, mode='distance').todense())\n",
    "\n",
    "for i in range(knn_w.shape[0]):\n",
    "    for j in range(i+1, knn_w.shape[0]):\n",
    "        knn_w[i][j] = max(knn_w[i][j], knn_w[j][i])\n",
    "        knn_w[j][i] = max(knn_w[i][j], knn_w[j][i])\n",
    "\n",
    "np.fill_diagonal(knn_w, 0)"
   ]
  },
  {
   "cell_type": "code",
   "execution_count": null,
   "metadata": {},
   "outputs": [],
   "source": [
    "write_edgelist(knn_w, 'digitpair')\n",
    "acc_lists = [[] for i in range(8)]\n",
    "abs_lists = [[] for i in range(8)]\n",
    "it_lists = [[] for i in range(8)]\n",
    "for i in range(5):\n",
    "    train_index = sample(list(np.where(labels==-1)[0]), 2) + sample(list(np.where(labels==1)[0]), 2)\n",
    "    test_index = np.array(list(set(total_ind)-set(train_index)))\n",
    "    train_index = np.array(train_index)\n",
    "    print(train_index.shape[0], test_index.shape[0])\n",
    "    clf = SVC()\n",
    "    clf.fit(x[train_index], labels[train_index])\n",
    "    acc_lists[5].append(clf.score(x[test_index], labels[test_index]))\n",
    "    abs_lists[5].append(np.average(np.absolute(clf.predict(x[test_index]))))\n",
    "    cla_acc, reg_err, y_pred = spielman_voltage(labels, train_index, test_index, 'digitpair', i, reg=False)\n",
    "    acc_lists[0].append(cla_acc)\n",
    "    abs_lists[0].append(np.average(np.absolute(y_pred[test_index])))\n",
    "    cla_acc, reg_err, y_pred, it = johnsen(knn_w, labels, train_index, test_index, max_it=1000, reg=False)\n",
    "    it_lists[1].append(it)\n",
    "    acc_lists[1].append(cla_acc)\n",
    "    abs_lists[1].append(np.average(np.absolute(y_pred[test_index])))\n",
    "    cla_acc, reg_err, y_pred, it = label_prop(knn_w, labels, train_index, test_index, max_it=1000, reg=False)\n",
    "    it_lists[2].append(it)\n",
    "    acc_lists[2].append(cla_acc)\n",
    "    abs_lists[2].append(np.average(np.absolute(y_pred[test_index])))\n",
    "    acc, reg_err, y_pred, it  = iterate_hebbian(knn_w, labels, train_index, test_index, max_it = 1000, eta=0.2, reg=False)\n",
    "    it_lists[3].append(it)\n",
    "    acc_lists[3].append(acc)\n",
    "    abs_lists[3].append(np.average(np.absolute(y_pred[test_index])))\n",
    "    acc, reg_err, y_pred, it  = biased_assimilation(knn_w, labels, train_index, test_index, reg=False)\n",
    "    it_lists[4].append(it)\n",
    "    acc_lists[4].append(acc)\n",
    "    abs_lists[4].append(np.average(np.absolute(y_pred[test_index])))\n",
    "    acc, reg_err, y_pred, it  = edit_biased_assimilation(knn_w, labels, train_index, test_index, max_it = 1000, eta=0.2, reg=False)\n",
    "    acc_lists[6].append(acc)\n",
    "    it_lists[6].append(it)\n",
    "    abs_lists[6].append(np.average(np.absolute(y_pred[test_index])))"
   ]
  },
  {
   "cell_type": "code",
   "execution_count": 16,
   "metadata": {},
   "outputs": [
    {
     "name": "stdout",
     "output_type": "stream",
     "text": [
      "method name\t\t average accuracy\t average abs value\n",
      "spielmans voltage:\t 0.9507348029392118 0.29405562907244515 nan\n",
      "Friedkin-johnsen:\t 0.9777889111556446 0.0014168764215407744 27.0\n",
      "Biased Assimilation:\t 0.9689378757515029 0.9999733592609732 65.33333333333333\n",
      "Label Propagation:\t 0.7832331329325317 0.10619726918975758 1000.0\n",
      "Iterative Hebbian:\t 0.9741148964595858 0.9443287721156465 1000.0\n",
      "Hebbian + Biased:\t 0.96125584502338 0.9999925330455101 47.666666666666664\n",
      "SVM:\t\t\t 0.8124582498329994\n"
     ]
    },
    {
     "name": "stderr",
     "output_type": "stream",
     "text": [
      "/Library/Frameworks/Python.framework/Versions/3.5/lib/python3.5/site-packages/numpy/lib/function_base.py:390: RuntimeWarning: Mean of empty slice.\n",
      "  avg = a.mean(axis)\n",
      "/Library/Frameworks/Python.framework/Versions/3.5/lib/python3.5/site-packages/numpy/core/_methods.py:161: RuntimeWarning: invalid value encountered in double_scalars\n",
      "  ret = ret.dtype.type(ret / rcount)\n"
     ]
    }
   ],
   "source": [
    "left = 0\n",
    "right = 5\n",
    "print('method name\\t\\t average accuracy\\t average abs value')\n",
    "print('spielmans voltage:\\t', np.average(acc_lists[0][left:right]), np.average(abs_lists[0][left:right]), np.average(it_lists[0][left:right]))\n",
    "print('Friedkin-johnsen:\\t', np.average(acc_lists[1][left:right]), np.average(abs_lists[1][left:right]), np.average(it_lists[1][left:right]))\n",
    "print('Biased Assimilation:\\t', np.average(acc_lists[4][left:right]), np.average(abs_lists[4][left:right]), np.average(it_lists[4][left:right]))\n",
    "print('Label Propagation:\\t', np.average(acc_lists[2][left:right]), np.average(abs_lists[2][left:right]), np.average(it_lists[2][left:right]))\n",
    "print('Iterative Hebbian:\\t', np.average(acc_lists[3][left:right]), np.average(abs_lists[3][left:right]), np.average(it_lists[3][left:right]))\n",
    "print('Hebbian + Biased:\\t', np.average(acc_lists[6][left:right]), np.average(abs_lists[6][left:right]), np.average(it_lists[6][left:right]))\n",
    "#     print('Iterative Hebbian4:\\t', np.average(acc_lists[7][left:right]), np.average(abs_lists[7][left:right]), np.average(it_lists[7][left:right]))\n",
    "print('SVM:\\t\\t\\t', np.average(acc_lists[5][left:right]))"
   ]
  },
  {
   "cell_type": "code",
   "execution_count": null,
   "metadata": {},
   "outputs": [],
   "source": []
  }
 ],
 "metadata": {
  "kernelspec": {
   "display_name": "Python 3",
   "language": "python",
   "name": "python3"
  },
  "language_info": {
   "codemirror_mode": {
    "name": "ipython",
    "version": 3
   },
   "file_extension": ".py",
   "mimetype": "text/x-python",
   "name": "python",
   "nbconvert_exporter": "python",
   "pygments_lexer": "ipython3",
   "version": "3.5.2"
  }
 },
 "nbformat": 4,
 "nbformat_minor": 2
}
